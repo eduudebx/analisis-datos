{
 "cells": [
  {
   "cell_type": "markdown",
   "metadata": {},
   "source": [
    "<hr>\n",
    "<br>\n",
    "<center><b>EDUARDO MENDIETA<br><br>Unidad II: Actividad 2: LIMPIEZA DE DATOS_parte 1</b></center>\n",
    "<br>\n",
    "<hr>\n",
    "<b>Importando los datos de un archivo excel en un dataframe de Pandas:</b>"
   ]
  },
  {
   "cell_type": "code",
   "execution_count": 12,
   "metadata": {},
   "outputs": [
    {
     "data": {
      "text/html": [
       "<div>\n",
       "<style scoped>\n",
       "    .dataframe tbody tr th:only-of-type {\n",
       "        vertical-align: middle;\n",
       "    }\n",
       "\n",
       "    .dataframe tbody tr th {\n",
       "        vertical-align: top;\n",
       "    }\n",
       "\n",
       "    .dataframe thead th {\n",
       "        text-align: right;\n",
       "    }\n",
       "</style>\n",
       "<table border=\"1\" class=\"dataframe\">\n",
       "  <thead>\n",
       "    <tr style=\"text-align: right;\">\n",
       "      <th></th>\n",
       "      <th>Nombre</th>\n",
       "      <th>Edad</th>\n",
       "      <th>Puntuacion</th>\n",
       "      <th>Sexo</th>\n",
       "    </tr>\n",
       "  </thead>\n",
       "  <tbody>\n",
       "    <tr>\n",
       "      <th>0</th>\n",
       "      <td>Anthony Wallace</td>\n",
       "      <td>46.0</td>\n",
       "      <td>86.0</td>\n",
       "      <td>M</td>\n",
       "    </tr>\n",
       "    <tr>\n",
       "      <th>1</th>\n",
       "      <td>Steven Barker</td>\n",
       "      <td>25.0</td>\n",
       "      <td>67.0</td>\n",
       "      <td>F</td>\n",
       "    </tr>\n",
       "    <tr>\n",
       "      <th>2</th>\n",
       "      <td>Barry Graham</td>\n",
       "      <td>56.0</td>\n",
       "      <td>82.0</td>\n",
       "      <td>M</td>\n",
       "    </tr>\n",
       "    <tr>\n",
       "      <th>3</th>\n",
       "      <td>Austin Jackson</td>\n",
       "      <td>40.0</td>\n",
       "      <td>92.0</td>\n",
       "      <td>M</td>\n",
       "    </tr>\n",
       "    <tr>\n",
       "      <th>4</th>\n",
       "      <td>Michael Ramirez</td>\n",
       "      <td>NaN</td>\n",
       "      <td>63.0</td>\n",
       "      <td>F</td>\n",
       "    </tr>\n",
       "    <tr>\n",
       "      <th>5</th>\n",
       "      <td>Karen Ashley</td>\n",
       "      <td>53.0</td>\n",
       "      <td>NaN</td>\n",
       "      <td>NaN</td>\n",
       "    </tr>\n",
       "    <tr>\n",
       "      <th>6</th>\n",
       "      <td>Zachary Sampson</td>\n",
       "      <td>20.0</td>\n",
       "      <td>85.0</td>\n",
       "      <td>M</td>\n",
       "    </tr>\n",
       "    <tr>\n",
       "      <th>7</th>\n",
       "      <td>Karen Larson</td>\n",
       "      <td>NaN</td>\n",
       "      <td>NaN</td>\n",
       "      <td>M</td>\n",
       "    </tr>\n",
       "    <tr>\n",
       "      <th>8</th>\n",
       "      <td>Heather Moore</td>\n",
       "      <td>61.0</td>\n",
       "      <td>60.0</td>\n",
       "      <td>F</td>\n",
       "    </tr>\n",
       "    <tr>\n",
       "      <th>9</th>\n",
       "      <td>James Ross</td>\n",
       "      <td>19.0</td>\n",
       "      <td>96.0</td>\n",
       "      <td>M</td>\n",
       "    </tr>\n",
       "  </tbody>\n",
       "</table>\n",
       "</div>"
      ],
      "text/plain": [
       "            Nombre  Edad  Puntuacion Sexo\n",
       "0  Anthony Wallace  46.0        86.0    M\n",
       "1    Steven Barker  25.0        67.0    F\n",
       "2     Barry Graham  56.0        82.0    M\n",
       "3   Austin Jackson  40.0        92.0    M\n",
       "4  Michael Ramirez   NaN        63.0    F\n",
       "5     Karen Ashley  53.0         NaN  NaN\n",
       "6  Zachary Sampson  20.0        85.0    M\n",
       "7     Karen Larson   NaN         NaN    M\n",
       "8    Heather Moore  61.0        60.0    F\n",
       "9       James Ross  19.0        96.0    M"
      ]
     },
     "execution_count": 12,
     "metadata": {},
     "output_type": "execute_result"
    }
   ],
   "source": [
    "import pandas as pd\n",
    "\n",
    "\n",
    "df = pd.read_excel('datos.xlsx', sheet_name=0)\n",
    "df.head(10)"
   ]
  },
  {
   "cell_type": "markdown",
   "metadata": {},
   "source": [
    "<hr>\n",
    "<b>Obteniendo información del dataframe:</b>"
   ]
  },
  {
   "cell_type": "code",
   "execution_count": 13,
   "metadata": {},
   "outputs": [
    {
     "name": "stdout",
     "output_type": "stream",
     "text": [
      "<class 'pandas.core.frame.DataFrame'>\n",
      "RangeIndex: 2000 entries, 0 to 1999\n",
      "Data columns (total 4 columns):\n",
      " #   Column      Non-Null Count  Dtype  \n",
      "---  ------      --------------  -----  \n",
      " 0   Nombre      2000 non-null   object \n",
      " 1   Edad        1799 non-null   float64\n",
      " 2   Puntuacion  1570 non-null   float64\n",
      " 3   Sexo        1331 non-null   object \n",
      "dtypes: float64(2), object(2)\n",
      "memory usage: 62.6+ KB\n",
      "\n",
      "Informacion:\n",
      "\n",
      "None\n"
     ]
    }
   ],
   "source": [
    "print(f'\\nInformacion:\\n\\n{df.info()}')"
   ]
  },
  {
   "cell_type": "markdown",
   "metadata": {},
   "source": [
    "<hr>\n",
    "<b>Identificando valores nulos por columna:</b>"
   ]
  },
  {
   "cell_type": "code",
   "execution_count": 14,
   "metadata": {},
   "outputs": [
    {
     "name": "stdout",
     "output_type": "stream",
     "text": [
      "\n",
      "Nulos por columna:\n",
      "\n",
      "Nombre          0\n",
      "Edad          201\n",
      "Puntuacion    430\n",
      "Sexo          669\n",
      "dtype: int64\n"
     ]
    }
   ],
   "source": [
    "nulos_por_columna = df.isnull().sum()\n",
    "print(f'\\nNulos por columna:\\n\\n{nulos_por_columna}')"
   ]
  },
  {
   "cell_type": "markdown",
   "metadata": {},
   "source": [
    "<hr>\n",
    "<b>En la columna 'Edad' se identifican 201 registros nulos, por lo que se procede a reemplazar por el promedio de las edades:</b>"
   ]
  },
  {
   "cell_type": "code",
   "execution_count": 15,
   "metadata": {},
   "outputs": [
    {
     "name": "stdout",
     "output_type": "stream",
     "text": [
      "\n",
      "Promedio de edades: 41\n",
      "\n"
     ]
    },
    {
     "data": {
      "text/html": [
       "<div>\n",
       "<style scoped>\n",
       "    .dataframe tbody tr th:only-of-type {\n",
       "        vertical-align: middle;\n",
       "    }\n",
       "\n",
       "    .dataframe tbody tr th {\n",
       "        vertical-align: top;\n",
       "    }\n",
       "\n",
       "    .dataframe thead th {\n",
       "        text-align: right;\n",
       "    }\n",
       "</style>\n",
       "<table border=\"1\" class=\"dataframe\">\n",
       "  <thead>\n",
       "    <tr style=\"text-align: right;\">\n",
       "      <th></th>\n",
       "      <th>Nombre</th>\n",
       "      <th>Edad</th>\n",
       "      <th>Puntuacion</th>\n",
       "      <th>Sexo</th>\n",
       "    </tr>\n",
       "  </thead>\n",
       "  <tbody>\n",
       "    <tr>\n",
       "      <th>0</th>\n",
       "      <td>Anthony Wallace</td>\n",
       "      <td>46</td>\n",
       "      <td>86.0</td>\n",
       "      <td>M</td>\n",
       "    </tr>\n",
       "    <tr>\n",
       "      <th>1</th>\n",
       "      <td>Steven Barker</td>\n",
       "      <td>25</td>\n",
       "      <td>67.0</td>\n",
       "      <td>F</td>\n",
       "    </tr>\n",
       "    <tr>\n",
       "      <th>2</th>\n",
       "      <td>Barry Graham</td>\n",
       "      <td>56</td>\n",
       "      <td>82.0</td>\n",
       "      <td>M</td>\n",
       "    </tr>\n",
       "    <tr>\n",
       "      <th>3</th>\n",
       "      <td>Austin Jackson</td>\n",
       "      <td>40</td>\n",
       "      <td>92.0</td>\n",
       "      <td>M</td>\n",
       "    </tr>\n",
       "    <tr>\n",
       "      <th>4</th>\n",
       "      <td>Michael Ramirez</td>\n",
       "      <td>41</td>\n",
       "      <td>63.0</td>\n",
       "      <td>F</td>\n",
       "    </tr>\n",
       "    <tr>\n",
       "      <th>5</th>\n",
       "      <td>Karen Ashley</td>\n",
       "      <td>53</td>\n",
       "      <td>NaN</td>\n",
       "      <td>NaN</td>\n",
       "    </tr>\n",
       "    <tr>\n",
       "      <th>6</th>\n",
       "      <td>Zachary Sampson</td>\n",
       "      <td>20</td>\n",
       "      <td>85.0</td>\n",
       "      <td>M</td>\n",
       "    </tr>\n",
       "    <tr>\n",
       "      <th>7</th>\n",
       "      <td>Karen Larson</td>\n",
       "      <td>41</td>\n",
       "      <td>NaN</td>\n",
       "      <td>M</td>\n",
       "    </tr>\n",
       "    <tr>\n",
       "      <th>8</th>\n",
       "      <td>Heather Moore</td>\n",
       "      <td>61</td>\n",
       "      <td>60.0</td>\n",
       "      <td>F</td>\n",
       "    </tr>\n",
       "    <tr>\n",
       "      <th>9</th>\n",
       "      <td>James Ross</td>\n",
       "      <td>19</td>\n",
       "      <td>96.0</td>\n",
       "      <td>M</td>\n",
       "    </tr>\n",
       "  </tbody>\n",
       "</table>\n",
       "</div>"
      ],
      "text/plain": [
       "            Nombre  Edad  Puntuacion Sexo\n",
       "0  Anthony Wallace    46        86.0    M\n",
       "1    Steven Barker    25        67.0    F\n",
       "2     Barry Graham    56        82.0    M\n",
       "3   Austin Jackson    40        92.0    M\n",
       "4  Michael Ramirez    41        63.0    F\n",
       "5     Karen Ashley    53         NaN  NaN\n",
       "6  Zachary Sampson    20        85.0    M\n",
       "7     Karen Larson    41         NaN    M\n",
       "8    Heather Moore    61        60.0    F\n",
       "9       James Ross    19        96.0    M"
      ]
     },
     "execution_count": 15,
     "metadata": {},
     "output_type": "execute_result"
    }
   ],
   "source": [
    "df['Edad'] = df['Edad'].fillna('0').astype(int)\n",
    "\n",
    "promedio = round(df[df['Edad'] != 0]['Edad'].mean())\n",
    "print(f'\\nPromedio de edades: {promedio}\\n')\n",
    "\n",
    "df['Edad'] = df['Edad'].replace(0, promedio)\n",
    "\n",
    "df.head(10)"
   ]
  },
  {
   "cell_type": "markdown",
   "metadata": {},
   "source": [
    "<hr>\n",
    "<b>En la columna 'Puntuacion' se identifican 430 registros nulos, en este caso cambiaremos los valores nulos por el valor modal:</b"
   ]
  },
  {
   "cell_type": "code",
   "execution_count": 17,
   "metadata": {},
   "outputs": [
    {
     "name": "stdout",
     "output_type": "stream",
     "text": [
      "\n",
      "Valor modal: 72\n",
      "\n",
      "            Nombre  Edad  Puntuacion Sexo\n",
      "0  Anthony Wallace    46          86    M\n",
      "1    Steven Barker    25          67    F\n",
      "2     Barry Graham    56          82    M\n",
      "3   Austin Jackson    40          92    M\n",
      "4  Michael Ramirez    41          63    F\n",
      "5     Karen Ashley    53          72  NaN\n",
      "6  Zachary Sampson    20          85    M\n",
      "7     Karen Larson    41          72    M\n",
      "8    Heather Moore    61          60    F\n",
      "9       James Ross    19          96    M\n"
     ]
    }
   ],
   "source": [
    "df['Puntuacion'] = df['Puntuacion'].fillna(-1).astype(int)\n",
    "\n",
    "valor_modal = round(df[df['Puntuacion'] != -1]['Puntuacion'].mode()[0])\n",
    "print(f'\\nValor modal: {valor_modal}\\n')\n",
    "\n",
    "df['Puntuacion'] = df['Puntuacion'].replace(-1, valor_modal)\n",
    "\n",
    "print(df.head(10))"
   ]
  },
  {
   "cell_type": "markdown",
   "metadata": {},
   "source": [
    "<hr>\n",
    "<b>En la columna 'Sexo' se identifican 669 registros nulos, en este caso cambiaremos los valores nulos por el valor 'Desconocido':</b"
   ]
  },
  {
   "cell_type": "code",
   "execution_count": 18,
   "metadata": {},
   "outputs": [
    {
     "data": {
      "text/html": [
       "<div>\n",
       "<style scoped>\n",
       "    .dataframe tbody tr th:only-of-type {\n",
       "        vertical-align: middle;\n",
       "    }\n",
       "\n",
       "    .dataframe tbody tr th {\n",
       "        vertical-align: top;\n",
       "    }\n",
       "\n",
       "    .dataframe thead th {\n",
       "        text-align: right;\n",
       "    }\n",
       "</style>\n",
       "<table border=\"1\" class=\"dataframe\">\n",
       "  <thead>\n",
       "    <tr style=\"text-align: right;\">\n",
       "      <th></th>\n",
       "      <th>Nombre</th>\n",
       "      <th>Edad</th>\n",
       "      <th>Puntuacion</th>\n",
       "      <th>Sexo</th>\n",
       "    </tr>\n",
       "  </thead>\n",
       "  <tbody>\n",
       "    <tr>\n",
       "      <th>0</th>\n",
       "      <td>Anthony Wallace</td>\n",
       "      <td>46</td>\n",
       "      <td>86</td>\n",
       "      <td>M</td>\n",
       "    </tr>\n",
       "    <tr>\n",
       "      <th>1</th>\n",
       "      <td>Steven Barker</td>\n",
       "      <td>25</td>\n",
       "      <td>67</td>\n",
       "      <td>F</td>\n",
       "    </tr>\n",
       "    <tr>\n",
       "      <th>2</th>\n",
       "      <td>Barry Graham</td>\n",
       "      <td>56</td>\n",
       "      <td>82</td>\n",
       "      <td>M</td>\n",
       "    </tr>\n",
       "    <tr>\n",
       "      <th>3</th>\n",
       "      <td>Austin Jackson</td>\n",
       "      <td>40</td>\n",
       "      <td>92</td>\n",
       "      <td>M</td>\n",
       "    </tr>\n",
       "    <tr>\n",
       "      <th>4</th>\n",
       "      <td>Michael Ramirez</td>\n",
       "      <td>41</td>\n",
       "      <td>63</td>\n",
       "      <td>F</td>\n",
       "    </tr>\n",
       "    <tr>\n",
       "      <th>5</th>\n",
       "      <td>Karen Ashley</td>\n",
       "      <td>53</td>\n",
       "      <td>72</td>\n",
       "      <td>Desconocido</td>\n",
       "    </tr>\n",
       "    <tr>\n",
       "      <th>6</th>\n",
       "      <td>Zachary Sampson</td>\n",
       "      <td>20</td>\n",
       "      <td>85</td>\n",
       "      <td>M</td>\n",
       "    </tr>\n",
       "    <tr>\n",
       "      <th>7</th>\n",
       "      <td>Karen Larson</td>\n",
       "      <td>41</td>\n",
       "      <td>72</td>\n",
       "      <td>M</td>\n",
       "    </tr>\n",
       "    <tr>\n",
       "      <th>8</th>\n",
       "      <td>Heather Moore</td>\n",
       "      <td>61</td>\n",
       "      <td>60</td>\n",
       "      <td>F</td>\n",
       "    </tr>\n",
       "    <tr>\n",
       "      <th>9</th>\n",
       "      <td>James Ross</td>\n",
       "      <td>19</td>\n",
       "      <td>96</td>\n",
       "      <td>M</td>\n",
       "    </tr>\n",
       "  </tbody>\n",
       "</table>\n",
       "</div>"
      ],
      "text/plain": [
       "            Nombre  Edad  Puntuacion         Sexo\n",
       "0  Anthony Wallace    46          86            M\n",
       "1    Steven Barker    25          67            F\n",
       "2     Barry Graham    56          82            M\n",
       "3   Austin Jackson    40          92            M\n",
       "4  Michael Ramirez    41          63            F\n",
       "5     Karen Ashley    53          72  Desconocido\n",
       "6  Zachary Sampson    20          85            M\n",
       "7     Karen Larson    41          72            M\n",
       "8    Heather Moore    61          60            F\n",
       "9       James Ross    19          96            M"
      ]
     },
     "execution_count": 18,
     "metadata": {},
     "output_type": "execute_result"
    }
   ],
   "source": [
    "df['Sexo'] = df['Sexo'].fillna('Desconocido')\n",
    "df.head(10)"
   ]
  },
  {
   "cell_type": "markdown",
   "metadata": {},
   "source": [
    "<hr>\n",
    "<b>Exportamos los datos limpios en un nuevo archivo de Excel:</b>"
   ]
  },
  {
   "cell_type": "code",
   "execution_count": 19,
   "metadata": {},
   "outputs": [],
   "source": [
    "df.to_excel('datos_limpios.xlsx', index=False)"
   ]
  }
 ],
 "metadata": {
  "kernelspec": {
   "display_name": "ista",
   "language": "python",
   "name": "python3"
  },
  "language_info": {
   "codemirror_mode": {
    "name": "ipython",
    "version": 3
   },
   "file_extension": ".py",
   "mimetype": "text/x-python",
   "name": "python",
   "nbconvert_exporter": "python",
   "pygments_lexer": "ipython3",
   "version": "3.12.7"
  }
 },
 "nbformat": 4,
 "nbformat_minor": 2
}
