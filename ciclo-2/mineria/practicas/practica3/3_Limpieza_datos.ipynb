{
 "cells": [
  {
   "cell_type": "markdown",
   "metadata": {},
   "source": [
    "<center><p><b>GUÍA PRÁCTICA 2 - MINERÍA DE DATOS<br>EDUARDO MENDIETA</b></p></center>"
   ]
  },
  {
   "cell_type": "code",
   "execution_count": 1,
   "metadata": {},
   "outputs": [],
   "source": [
    "import pandas as pd"
   ]
  },
  {
   "cell_type": "code",
   "execution_count": 65,
   "metadata": {},
   "outputs": [
    {
     "data": {
      "text/html": [
       "<div>\n",
       "<style scoped>\n",
       "    .dataframe tbody tr th:only-of-type {\n",
       "        vertical-align: middle;\n",
       "    }\n",
       "\n",
       "    .dataframe tbody tr th {\n",
       "        vertical-align: top;\n",
       "    }\n",
       "\n",
       "    .dataframe thead th {\n",
       "        text-align: right;\n",
       "    }\n",
       "</style>\n",
       "<table border=\"1\" class=\"dataframe\">\n",
       "  <thead>\n",
       "    <tr style=\"text-align: right;\">\n",
       "      <th></th>\n",
       "      <th>color</th>\n",
       "      <th>director_name</th>\n",
       "      <th>num_critic_for_reviews</th>\n",
       "      <th>duration</th>\n",
       "      <th>director_facebook_likes</th>\n",
       "      <th>actor_3_facebook_likes</th>\n",
       "      <th>actor_2_name</th>\n",
       "      <th>actor_1_facebook_likes</th>\n",
       "      <th>gross</th>\n",
       "      <th>genres</th>\n",
       "      <th>...</th>\n",
       "      <th>num_user_for_reviews</th>\n",
       "      <th>language</th>\n",
       "      <th>country</th>\n",
       "      <th>content_rating</th>\n",
       "      <th>budget</th>\n",
       "      <th>title_year</th>\n",
       "      <th>actor_2_facebook_likes</th>\n",
       "      <th>imdb_score</th>\n",
       "      <th>aspect_ratio</th>\n",
       "      <th>movie_facebook_likes</th>\n",
       "    </tr>\n",
       "  </thead>\n",
       "  <tbody>\n",
       "    <tr>\n",
       "      <th>0</th>\n",
       "      <td>Color</td>\n",
       "      <td>James Cameron</td>\n",
       "      <td>723.0</td>\n",
       "      <td>178.0</td>\n",
       "      <td>0.0</td>\n",
       "      <td>855.0</td>\n",
       "      <td>Joel David Moore</td>\n",
       "      <td>1000.0</td>\n",
       "      <td>760505847.0</td>\n",
       "      <td>Action|Adventure|Fantasy|Sci-Fi</td>\n",
       "      <td>...</td>\n",
       "      <td>3054.0</td>\n",
       "      <td>English</td>\n",
       "      <td>USA</td>\n",
       "      <td>PG-13</td>\n",
       "      <td>237000000.0</td>\n",
       "      <td>2009.0</td>\n",
       "      <td>936.0</td>\n",
       "      <td>7.9</td>\n",
       "      <td>1.78</td>\n",
       "      <td>33000</td>\n",
       "    </tr>\n",
       "    <tr>\n",
       "      <th>1</th>\n",
       "      <td>Color</td>\n",
       "      <td>Gore Verbinski</td>\n",
       "      <td>302.0</td>\n",
       "      <td>169.0</td>\n",
       "      <td>563.0</td>\n",
       "      <td>1000.0</td>\n",
       "      <td>Orlando Bloom</td>\n",
       "      <td>40000.0</td>\n",
       "      <td>309404152.0</td>\n",
       "      <td>Action|Adventure|Fantasy</td>\n",
       "      <td>...</td>\n",
       "      <td>1238.0</td>\n",
       "      <td>English</td>\n",
       "      <td>USA</td>\n",
       "      <td>PG-13</td>\n",
       "      <td>300000000.0</td>\n",
       "      <td>2007.0</td>\n",
       "      <td>5000.0</td>\n",
       "      <td>7.1</td>\n",
       "      <td>2.35</td>\n",
       "      <td>0</td>\n",
       "    </tr>\n",
       "  </tbody>\n",
       "</table>\n",
       "<p>2 rows × 28 columns</p>\n",
       "</div>"
      ],
      "text/plain": [
       "   color   director_name  num_critic_for_reviews  duration  \\\n",
       "0  Color   James Cameron                   723.0     178.0   \n",
       "1  Color  Gore Verbinski                   302.0     169.0   \n",
       "\n",
       "   director_facebook_likes  actor_3_facebook_likes      actor_2_name  \\\n",
       "0                      0.0                   855.0  Joel David Moore   \n",
       "1                    563.0                  1000.0     Orlando Bloom   \n",
       "\n",
       "   actor_1_facebook_likes        gross                           genres  ...  \\\n",
       "0                  1000.0  760505847.0  Action|Adventure|Fantasy|Sci-Fi  ...   \n",
       "1                 40000.0  309404152.0         Action|Adventure|Fantasy  ...   \n",
       "\n",
       "  num_user_for_reviews language  country  content_rating       budget  \\\n",
       "0               3054.0  English      USA           PG-13  237000000.0   \n",
       "1               1238.0  English      USA           PG-13  300000000.0   \n",
       "\n",
       "   title_year actor_2_facebook_likes imdb_score  aspect_ratio  \\\n",
       "0      2009.0                  936.0        7.9          1.78   \n",
       "1      2007.0                 5000.0        7.1          2.35   \n",
       "\n",
       "  movie_facebook_likes  \n",
       "0                33000  \n",
       "1                    0  \n",
       "\n",
       "[2 rows x 28 columns]"
      ]
     },
     "execution_count": 65,
     "metadata": {},
     "output_type": "execute_result"
    }
   ],
   "source": [
    "df = pd.read_csv('data/movie_metadata.csv')\n",
    "df.head(2)"
   ]
  },
  {
   "cell_type": "code",
   "execution_count": 66,
   "metadata": {},
   "outputs": [
    {
     "name": "stdout",
     "output_type": "stream",
     "text": [
      "<class 'pandas.core.frame.DataFrame'>\n",
      "RangeIndex: 5043 entries, 0 to 5042\n",
      "Data columns (total 28 columns):\n",
      " #   Column                     Non-Null Count  Dtype  \n",
      "---  ------                     --------------  -----  \n",
      " 0   color                      5024 non-null   object \n",
      " 1   director_name              4939 non-null   object \n",
      " 2   num_critic_for_reviews     4993 non-null   float64\n",
      " 3   duration                   5028 non-null   float64\n",
      " 4   director_facebook_likes    4939 non-null   float64\n",
      " 5   actor_3_facebook_likes     5020 non-null   float64\n",
      " 6   actor_2_name               5030 non-null   object \n",
      " 7   actor_1_facebook_likes     5036 non-null   float64\n",
      " 8   gross                      4159 non-null   float64\n",
      " 9   genres                     5043 non-null   object \n",
      " 10  actor_1_name               5036 non-null   object \n",
      " 11  movie_title                5043 non-null   object \n",
      " 12  num_voted_users            5043 non-null   int64  \n",
      " 13  cast_total_facebook_likes  5043 non-null   int64  \n",
      " 14  actor_3_name               5020 non-null   object \n",
      " 15  facenumber_in_poster       5030 non-null   float64\n",
      " 16  plot_keywords              4890 non-null   object \n",
      " 17  movie_imdb_link            5043 non-null   object \n",
      " 18  num_user_for_reviews       5022 non-null   float64\n",
      " 19  language                   5029 non-null   object \n",
      " 20  country                    5038 non-null   object \n",
      " 21  content_rating             4740 non-null   object \n",
      " 22  budget                     4551 non-null   float64\n",
      " 23  title_year                 4935 non-null   float64\n",
      " 24  actor_2_facebook_likes     5030 non-null   float64\n",
      " 25  imdb_score                 5043 non-null   float64\n",
      " 26  aspect_ratio               4714 non-null   float64\n",
      " 27  movie_facebook_likes       5043 non-null   int64  \n",
      "dtypes: float64(13), int64(3), object(12)\n",
      "memory usage: 1.1+ MB\n"
     ]
    }
   ],
   "source": [
    "df.info()"
   ]
  },
  {
   "cell_type": "code",
   "execution_count": 67,
   "metadata": {},
   "outputs": [
    {
     "name": "stdout",
     "output_type": "stream",
     "text": [
      "gross                      884\n",
      "budget                     492\n",
      "aspect_ratio               329\n",
      "content_rating             303\n",
      "plot_keywords              153\n",
      "title_year                 108\n",
      "director_name              104\n",
      "director_facebook_likes    104\n",
      "num_critic_for_reviews      50\n",
      "actor_3_name                23\n",
      "actor_3_facebook_likes      23\n",
      "num_user_for_reviews        21\n",
      "color                       19\n",
      "duration                    15\n",
      "language                    14\n",
      "facenumber_in_poster        13\n",
      "actor_2_name                13\n",
      "actor_2_facebook_likes      13\n",
      "actor_1_name                 7\n",
      "actor_1_facebook_likes       7\n",
      "country                      5\n",
      "dtype: int64\n"
     ]
    }
   ],
   "source": [
    "def nulos_por_columna():\n",
    "    nulos = df.isnull().sum()\n",
    "    print(nulos[nulos > 0].sort_values(ascending=False))\n",
    "\n",
    "nulos_por_columna()"
   ]
  },
  {
   "cell_type": "code",
   "execution_count": 42,
   "metadata": {},
   "outputs": [
    {
     "name": "stdout",
     "output_type": "stream",
     "text": [
      "float64\n",
      "float64\n",
      "float64\n",
      "object\n",
      "object\n",
      "float64\n"
     ]
    }
   ],
   "source": [
    "print(df['gross'].dtype)\n",
    "print(df['budget'].dtype)\n",
    "print(df['aspect_ratio'].dtype)\n",
    "print(df['content_rating'].dtype)\n",
    "print(df['plot_keywords'].dtype)\n",
    "print(df['title_year'].dtype)"
   ]
  },
  {
   "cell_type": "code",
   "execution_count": 43,
   "metadata": {},
   "outputs": [
    {
     "name": "stdout",
     "output_type": "stream",
     "text": [
      "gross: 4036\n",
      "budget: 440\n",
      "aspect_ratio: 23\n",
      "content_rating: 19\n",
      "plot_keywords: 4761\n",
      "title_year: 92\n"
     ]
    }
   ],
   "source": [
    "print(f'gross: {len(df[\"gross\"].unique())}')\n",
    "print(f'budget: {len(df[\"budget\"].unique())}')\n",
    "print(f'aspect_ratio: {len(df[\"aspect_ratio\"].unique())}')\n",
    "print(f'content_rating: {len(df[\"content_rating\"].unique())}')\n",
    "print(f'plot_keywords: {len(df[\"plot_keywords\"].unique())}')\n",
    "print(f'title_year: {len(df[\"title_year\"].unique())}')\n"
   ]
  },
  {
   "cell_type": "code",
   "execution_count": 69,
   "metadata": {},
   "outputs": [],
   "source": [
    "media = df['gross'].mean()\n",
    "df['gross'] = df['gross'].fillna(media)\n",
    "\n",
    "media = df['budget'].mean()\n",
    "df['budget'] = df['budget'].fillna(media)\n",
    "\n",
    "media = df['aspect_ratio'].mean()\n",
    "df['aspect_ratio'] = df['aspect_ratio'].fillna(media)\n",
    "\n",
    "media = df['title_year'].mean()\n",
    "df['title_year'] = df['title_year'].fillna(media)"
   ]
  },
  {
   "cell_type": "code",
   "execution_count": 70,
   "metadata": {},
   "outputs": [],
   "source": [
    "df['content_rating'] = df['content_rating'].fillna('Desconocido')\n",
    "df['plot_keywords'] = df['plot_keywords'].fillna('Desconocido')"
   ]
  },
  {
   "cell_type": "code",
   "execution_count": 71,
   "metadata": {},
   "outputs": [
    {
     "name": "stdout",
     "output_type": "stream",
     "text": [
      "director_name              104\n",
      "director_facebook_likes    104\n",
      "num_critic_for_reviews      50\n",
      "actor_3_facebook_likes      23\n",
      "actor_3_name                23\n",
      "num_user_for_reviews        21\n",
      "color                       19\n",
      "duration                    15\n",
      "language                    14\n",
      "actor_2_name                13\n",
      "facenumber_in_poster        13\n",
      "actor_2_facebook_likes      13\n",
      "actor_1_facebook_likes       7\n",
      "actor_1_name                 7\n",
      "country                      5\n",
      "dtype: int64\n"
     ]
    }
   ],
   "source": [
    "nulos_por_columna()"
   ]
  },
  {
   "cell_type": "code",
   "execution_count": 73,
   "metadata": {},
   "outputs": [
    {
     "name": "stdout",
     "output_type": "stream",
     "text": [
      "object\n",
      "float64\n",
      "float64\n",
      "float64\n",
      "object\n",
      "float64\n"
     ]
    }
   ],
   "source": [
    "print(df['director_name'].dtype)\n",
    "print(df['director_facebook_likes'].dtype)\n",
    "print(df['num_critic_for_reviews'].dtype)\n",
    "print(df['actor_3_facebook_likes'].dtype)\n",
    "print(df['actor_3_name'].dtype)\n",
    "print(df['num_user_for_reviews'].dtype)"
   ]
  },
  {
   "cell_type": "code",
   "execution_count": 75,
   "metadata": {},
   "outputs": [
    {
     "name": "stdout",
     "output_type": "stream",
     "text": [
      "director_name: 2399\n",
      "director_facebook_likes: 436\n",
      "num_critic_for_reviews: 529\n",
      "actor_3_facebook_likes: 907\n",
      "actor_3_name: 3522\n",
      "num_user_for_reviews: 955\n"
     ]
    }
   ],
   "source": [
    "print(f'director_name: {len(df[\"director_name\"].unique())}')\n",
    "print(f'director_facebook_likes: {len(df[\"director_facebook_likes\"].unique())}')\n",
    "print(f'num_critic_for_reviews: {len(df[\"num_critic_for_reviews\"].unique())}')\n",
    "print(f'actor_3_facebook_likes: {len(df[\"actor_3_facebook_likes\"].unique())}')\n",
    "print(f'actor_3_name: {len(df[\"actor_3_name\"].unique())}')\n",
    "print(f'num_user_for_reviews: {len(df[\"num_user_for_reviews\"].unique())}')"
   ]
  },
  {
   "cell_type": "code",
   "execution_count": 76,
   "metadata": {},
   "outputs": [],
   "source": [
    "media = df['director_facebook_likes'].mean()\n",
    "df['director_facebook_likes'] = df['director_facebook_likes'].fillna(media)\n",
    "\n",
    "media = df['num_critic_for_reviews'].mean()\n",
    "df['num_critic_for_reviews'] = df['num_critic_for_reviews'].fillna(media)\n",
    "\n",
    "media = df['actor_3_facebook_likes'].mean()\n",
    "df['actor_3_facebook_likes'] = df['actor_3_facebook_likes'].fillna(media)\n",
    "\n",
    "media = df['num_user_for_reviews'].mean()\n",
    "df['num_user_for_reviews'] = df['num_user_for_reviews'].fillna(media)"
   ]
  },
  {
   "cell_type": "code",
   "execution_count": 77,
   "metadata": {},
   "outputs": [],
   "source": [
    "df['director_name'] = df['content_rating'].fillna('Desconocido')\n",
    "df['actor_3_name'] = df['plot_keywords'].fillna('Desconocido')"
   ]
  },
  {
   "cell_type": "code",
   "execution_count": 78,
   "metadata": {},
   "outputs": [
    {
     "name": "stdout",
     "output_type": "stream",
     "text": [
      "color                     19\n",
      "duration                  15\n",
      "language                  14\n",
      "actor_2_name              13\n",
      "facenumber_in_poster      13\n",
      "actor_2_facebook_likes    13\n",
      "actor_1_facebook_likes     7\n",
      "actor_1_name               7\n",
      "country                    5\n",
      "dtype: int64\n"
     ]
    }
   ],
   "source": [
    "nulos_por_columna()"
   ]
  },
  {
   "cell_type": "code",
   "execution_count": 79,
   "metadata": {},
   "outputs": [
    {
     "name": "stdout",
     "output_type": "stream",
     "text": [
      "object\n",
      "float64\n",
      "object\n",
      "object\n",
      "float64\n",
      "float64\n"
     ]
    }
   ],
   "source": [
    "print(df['color'].dtype)\n",
    "print(df['duration'].dtype)\n",
    "print(df['language'].dtype)\n",
    "print(df['actor_2_name'].dtype)\n",
    "print(df['facenumber_in_poster'].dtype)\n",
    "print(df['actor_2_facebook_likes'].dtype)"
   ]
  },
  {
   "cell_type": "code",
   "execution_count": 80,
   "metadata": {},
   "outputs": [
    {
     "name": "stdout",
     "output_type": "stream",
     "text": [
      "color: 3\n",
      "duration: 192\n",
      "language: 47\n",
      "actor_2_name: 3033\n",
      "facenumber_in_poster: 20\n",
      "actor_2_facebook_likes: 918\n"
     ]
    }
   ],
   "source": [
    "print(f'color: {len(df[\"color\"].unique())}')\n",
    "print(f'duration: {len(df[\"duration\"].unique())}')\n",
    "print(f'language: {len(df[\"language\"].unique())}')\n",
    "print(f'actor_2_name: {len(df[\"actor_2_name\"].unique())}')\n",
    "print(f'facenumber_in_poster: {len(df[\"facenumber_in_poster\"].unique())}')\n",
    "print(f'actor_2_facebook_likes: {len(df[\"actor_2_facebook_likes\"].unique())}')"
   ]
  },
  {
   "cell_type": "code",
   "execution_count": 82,
   "metadata": {},
   "outputs": [],
   "source": [
    "media = df['duration'].mean()\n",
    "df['duration'] = df['duration'].fillna(media)\n",
    "\n",
    "media = df['actor_2_facebook_likes'].mean()\n",
    "df['actor_2_facebook_likes'] = df['actor_2_facebook_likes'].fillna(media)"
   ]
  },
  {
   "cell_type": "code",
   "execution_count": 83,
   "metadata": {},
   "outputs": [
    {
     "data": {
      "text/plain": [
       "0    0\n",
       "1    0\n",
       "Name: facenumber_in_poster, dtype: int64"
      ]
     },
     "execution_count": 83,
     "metadata": {},
     "output_type": "execute_result"
    }
   ],
   "source": [
    "moda = df['facenumber_in_poster'].mode()[0]\n",
    "df['facenumber_in_poster'] = df['facenumber_in_poster'].fillna(moda)\n",
    "df['facenumber_in_poster'] = df['facenumber_in_poster'].astype(int)\n",
    "\n",
    "df['facenumber_in_poster'].head(2)"
   ]
  },
  {
   "cell_type": "code",
   "execution_count": 84,
   "metadata": {},
   "outputs": [
    {
     "data": {
      "text/plain": [
       "array(['Color', nan, ' Black and White'], dtype=object)"
      ]
     },
     "execution_count": 84,
     "metadata": {},
     "output_type": "execute_result"
    }
   ],
   "source": [
    "df['color'].unique()"
   ]
  },
  {
   "cell_type": "code",
   "execution_count": 85,
   "metadata": {},
   "outputs": [],
   "source": [
    "df['color'] = df['color'].fillna(moda)\n",
    "df['language'] = df['language'].fillna(moda)\n",
    "df['actor_2_name'] = df['actor_2_name'].fillna(moda)"
   ]
  },
  {
   "cell_type": "code",
   "execution_count": 86,
   "metadata": {},
   "outputs": [
    {
     "name": "stdout",
     "output_type": "stream",
     "text": [
      "actor_1_facebook_likes    7\n",
      "actor_1_name              7\n",
      "country                   5\n",
      "dtype: int64\n"
     ]
    }
   ],
   "source": [
    "nulos_por_columna()"
   ]
  },
  {
   "cell_type": "code",
   "execution_count": 92,
   "metadata": {},
   "outputs": [
    {
     "name": "stdout",
     "output_type": "stream",
     "text": [
      "float64\n",
      "object\n",
      "object\n",
      "\n",
      "actor_1_facebook_likes: 879\n",
      "actor_1_name: 2098\n",
      "country: 66\n"
     ]
    }
   ],
   "source": [
    "print(df['actor_1_facebook_likes'].dtype)\n",
    "print(df['actor_1_name'].dtype)\n",
    "print(df['country'].dtype)\n",
    "\n",
    "print(f'\\nactor_1_facebook_likes: {len(df[\"actor_1_facebook_likes\"].unique())}')\n",
    "print(f'actor_1_name: {len(df[\"actor_1_name\"].unique())}')\n",
    "print(f'country: {len(df[\"country\"].unique())}')"
   ]
  },
  {
   "cell_type": "code",
   "execution_count": 93,
   "metadata": {},
   "outputs": [],
   "source": [
    "media = df['actor_1_facebook_likes'].mean()\n",
    "df['actor_1_facebook_likes'] = df['actor_1_facebook_likes'].fillna(media)\n",
    "\n",
    "df['actor_1_name'] = df['actor_1_name'].fillna('Desconocido')\n",
    "df['country'] = df['country'].fillna('Desconocido')"
   ]
  },
  {
   "cell_type": "code",
   "execution_count": 94,
   "metadata": {},
   "outputs": [
    {
     "name": "stdout",
     "output_type": "stream",
     "text": [
      "Series([], dtype: int64)\n"
     ]
    }
   ],
   "source": [
    "nulos_por_columna()"
   ]
  },
  {
   "cell_type": "code",
   "execution_count": 95,
   "metadata": {},
   "outputs": [],
   "source": [
    "df.to_csv('data/datos_limpios.csv')"
   ]
  }
 ],
 "metadata": {
  "kernelspec": {
   "display_name": "ista",
   "language": "python",
   "name": "python3"
  },
  "language_info": {
   "codemirror_mode": {
    "name": "ipython",
    "version": 3
   },
   "file_extension": ".py",
   "mimetype": "text/x-python",
   "name": "python",
   "nbconvert_exporter": "python",
   "pygments_lexer": "ipython3",
   "version": "3.12.7"
  }
 },
 "nbformat": 4,
 "nbformat_minor": 2
}
