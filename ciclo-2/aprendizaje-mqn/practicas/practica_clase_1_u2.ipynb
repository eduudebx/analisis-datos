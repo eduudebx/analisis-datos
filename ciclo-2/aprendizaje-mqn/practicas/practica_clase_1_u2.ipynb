{
 "cells": [
  {
   "cell_type": "markdown",
   "metadata": {},
   "source": [
    "<center><b><br>UNIDAD 2 - PRACTICA Nº1<br>Eduardo Mendieta</b></center>\n",
    "\n",
    "<hr>\n",
    "<b>NUMPY</b>"
   ]
  },
  {
   "cell_type": "code",
   "execution_count": 25,
   "metadata": {},
   "outputs": [
    {
     "name": "stdout",
     "output_type": "stream",
     "text": [
      "\n",
      "Version Numpy: 1.26.4\n",
      "\n",
      "\n",
      "Vector:\n",
      "[[ 1 20  3]\n",
      " [ 4  5  6]\n",
      " [ 5  6  7]\n",
      " [ 4  6  7]\n",
      " [10  6  7]]\n",
      "\n",
      "\n",
      "Tipo de dato:\n",
      "int32\n",
      "\n",
      "\n",
      "Elementos numericos categoricos:\n",
      "[1 3 5 7 9]\n",
      "\n",
      "\n",
      "Matrices de ceros:\n",
      "[[0.]\n",
      " [0.]\n",
      " [0.]]\n",
      "\n"
     ]
    }
   ],
   "source": [
    "import numpy as np\n",
    "\n",
    "print(f'\\nVersion Numpy: {np.__version__}\\n')\n",
    "\n",
    "vector = np.array([[1,20,3],[4,5,6],[5,6,7], [4,6,7], [10,6,7]])\n",
    "\n",
    "print(f'\\nVector:\\n{vector}\\n')\n",
    "print(f'\\nTipo de dato:\\n{vector.dtype}\\n')\n",
    "print(f'\\nElementos numericos categoricos:\\n{np.arange(1, 10, 2)}\\n')\n",
    "print(f'\\nMatrices de ceros:\\n{np.zeros((3,1))}\\n')\n"
   ]
  },
  {
   "cell_type": "markdown",
   "metadata": {},
   "source": [
    "<hr>\n",
    "<b>PANDAS</b>"
   ]
  },
  {
   "cell_type": "code",
   "execution_count": 24,
   "metadata": {},
   "outputs": [
    {
     "name": "stdout",
     "output_type": "stream",
     "text": [
      "\n",
      "Serie:\n",
      "Juan     200\n",
      "Maria    400\n",
      "Pedro    600\n",
      "dtype: int64\n",
      "\n",
      "\n",
      "Maria:\n",
      "400\n",
      "\n",
      "\n",
      "DataFrame:\n",
      "       Fechas     Frutas  Precios\n",
      "0  01/02/2023    Naranja        1\n",
      "1  01/03/2023    Platano        2\n",
      "2  01/04/2023  Mandarina        3\n",
      "3  01/05/2023       Coco        2\n",
      "\n"
     ]
    }
   ],
   "source": [
    "import pandas as pd\n",
    "\n",
    "sueldos = [200, 400, 600]\n",
    "index = ['Juan', 'Maria', 'Pedro']\n",
    "data = pd.Series(sueldos, index=index)\n",
    "\n",
    "print(f'\\nSerie:\\n{data}\\n')\n",
    "print(f'\\nMaria:\\n{data['Maria']}\\n')\n",
    "\n",
    "# DataFrame = conjunto de Series.\n",
    "fechas = ['01/02/2023', '01/03/2023', '01/04/2023', '01/05/2023']\n",
    "frutas = ['Naranja', 'Platano', 'Mandarina', 'Coco']\n",
    "precios = [1, 2, 3, 2]\n",
    "\n",
    "df = pd.DataFrame({'Fechas': fechas, 'Frutas': frutas, 'Precios': precios})\n",
    "print(f'\\nDataFrame:\\n{df}\\n')\n"
   ]
  }
 ],
 "metadata": {
  "kernelspec": {
   "display_name": "tsbd",
   "language": "python",
   "name": "python3"
  },
  "language_info": {
   "codemirror_mode": {
    "name": "ipython",
    "version": 3
   },
   "file_extension": ".py",
   "mimetype": "text/x-python",
   "name": "python",
   "nbconvert_exporter": "python",
   "pygments_lexer": "ipython3",
   "version": "3.12.6"
  }
 },
 "nbformat": 4,
 "nbformat_minor": 2
}
