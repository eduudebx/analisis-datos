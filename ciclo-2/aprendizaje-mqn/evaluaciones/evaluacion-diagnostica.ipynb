{
  "cells": [
    {
      "cell_type": "markdown",
      "metadata": {
        "id": "GlMEm7qc5UCX"
      },
      "source": [
        "# Ejercicios de Python\n",
        "\n",
        "Aquí hay algunos ejercicios para que practiques lo que has aprendido de Python"
      ]
    },
    {
      "cell_type": "markdown",
      "metadata": {
        "id": "KaGuVl615UCb"
      },
      "source": [
        "P1) *¿Cuánto es 123 elevado a 42?*"
      ]
    },
    {
      "cell_type": "code",
      "execution_count": 2,
      "metadata": {
        "colab": {
          "base_uri": "https://localhost:8080/"
        },
        "id": "-T0rqg3f5UCb",
        "outputId": "7879b61d-d449-4756-cf58-697aecad8dd6"
      },
      "outputs": [
        {
          "name": "stdout",
          "output_type": "stream",
          "text": [
            "123 elevado a la potencia 42 es 5970554685064519004265641008828923248442340700473500698131071806779372733915289638628729\n"
          ]
        }
      ],
      "source": [
        "print(f'123 elevado a la potencia 42 es {123**42}')"
      ]
    },
    {
      "cell_type": "markdown",
      "metadata": {
        "id": "0KpYdfap5UCc"
      },
      "source": [
        "P2) *Separa este string en sus palabras:*\n",
        "\n",
        "    s = \"Hola estudiantes de SaturdaysAI!\"\n",
        "    \n",
        "*y entrega una lista*"
      ]
    },
    {
      "cell_type": "code",
      "execution_count": 3,
      "metadata": {
        "colab": {
          "base_uri": "https://localhost:8080/"
        },
        "id": "CsMcJKS6_na4",
        "outputId": "d911da00-61a9-4020-8484-a6fffa03a8f6"
      },
      "outputs": [
        {
          "name": "stdout",
          "output_type": "stream",
          "text": [
            "['Hola', 'estudiantes', 'de', 'SaturdaysAI!']\n"
          ]
        }
      ],
      "source": [
        "s = 'Hola estudiantes de SaturdaysAI!'\n",
        "print(s.split(' '))"
      ]
    },
    {
      "cell_type": "markdown",
      "metadata": {
        "id": "BPTAFymp5UCe"
      },
      "source": [
        "P3) *Dada las variables:*\n",
        "\n",
        "    planet = \"Earth\"\n",
        "    diameter = 12742\n",
        "\n",
        "*Usa .format() para imprimir lo siguiente:*\n",
        "\n",
        "    El diámetro de la Tierra es 12742 kilómetros"
      ]
    },
    {
      "cell_type": "code",
      "execution_count": 4,
      "metadata": {
        "collapsed": true,
        "id": "184nDYn-5UCe"
      },
      "outputs": [
        {
          "name": "stdout",
          "output_type": "stream",
          "text": [
            "El Diámetro de la Tierra es 12742 kilómetros\n"
          ]
        }
      ],
      "source": [
        "planet = 'Tierra'\n",
        "diameter = 12742\n",
        "\n",
        "print('El Diámetro de la {} es {} kilómetros'.format(planet, diameter))"
      ]
    },
    {
      "cell_type": "markdown",
      "metadata": {
        "id": "LF2y80x25UCf"
      },
      "source": [
        "P4) *Dada esta lista dentro de una lista (nested list), usa el índice adecuado para obtener el string \"hello\"*"
      ]
    },
    {
      "cell_type": "code",
      "execution_count": 14,
      "metadata": {
        "collapsed": true,
        "id": "cOcMUpdU5UCg"
      },
      "outputs": [],
      "source": [
        "# No veo la nested list."
      ]
    },
    {
      "cell_type": "markdown",
      "metadata": {
        "id": "-82Ibg1H5UCg"
      },
      "source": [
        "P5) *Dado este diccionario (nested dictionary), obtener el string \"hello\"*"
      ]
    },
    {
      "cell_type": "code",
      "execution_count": 15,
      "metadata": {
        "id": "8H3zWZ6D5UCh"
      },
      "outputs": [],
      "source": [
        "# No veo el nested dictionary."
      ]
    },
    {
      "cell_type": "markdown",
      "metadata": {
        "id": "gjCyEEed5UCh"
      },
      "source": [
        "P6) *Cuál es la diferencia principal entre una tupla y una lista?*"
      ]
    },
    {
      "cell_type": "code",
      "execution_count": 16,
      "metadata": {
        "collapsed": true,
        "id": "Izy8H5H95UCh"
      },
      "outputs": [],
      "source": [
        "# El contenido de las listas se puede modificar durante la ejecución del programa mientras \n",
        "# para las tuplas no es posible alterar su contenido."
      ]
    },
    {
      "cell_type": "markdown",
      "metadata": {
        "id": "ScDl23QN5UCh"
      },
      "source": [
        "P7) *Cree una función que, dado un email entregue el domain*\n",
        "\n",
        "    user@domain.com\n",
        "    \n",
        "*Por ejemplo, al entregar \"user@domain.com\", la función entrega: domain.com*"
      ]
    },
    {
      "cell_type": "code",
      "execution_count": 29,
      "metadata": {
        "collapsed": true,
        "id": "HFZPDL-J5UCi"
      },
      "outputs": [],
      "source": [
        "def obtener_dominio(email : str):\n",
        "    dominio = ''\n",
        "    if email.count('@') == 1:\n",
        "        indice_inicial = 0\n",
        "        for i in range(len(email)):\n",
        "            if email[i] == '@':\n",
        "                indice_inicial = i\n",
        "                break\n",
        "        if i < len(email) - 1:\n",
        "            dominio = email[indice_inicial + 1:]\n",
        "    return dominio"
      ]
    },
    {
      "cell_type": "code",
      "execution_count": 33,
      "metadata": {
        "id": "1x-Ih7s75UCi",
        "outputId": "0000fedf-ad1b-4cd3-85f6-449a0b31ab07"
      },
      "outputs": [
        {
          "name": "stdout",
          "output_type": "stream",
          "text": [
            "domain.com\n"
          ]
        }
      ],
      "source": [
        "print(obtener_dominio('user@domain.com'))"
      ]
    },
    {
      "cell_type": "markdown",
      "metadata": {
        "id": "j4fs6M0o5UCi"
      },
      "source": [
        "P8) *Cree una función que entrega True si la palabra 'dog' aparece en el input string. Tome en cuenta la capitalización del input string.*"
      ]
    },
    {
      "cell_type": "code",
      "execution_count": 15,
      "metadata": {
        "collapsed": true,
        "id": "DOrQqG-z5UCi"
      },
      "outputs": [],
      "source": [
        "def esta_dog():\n",
        "    entrada = input('Ingresa una frase: ')\n",
        "    return 'dog' in entrada.lower()"
      ]
    },
    {
      "cell_type": "code",
      "execution_count": 16,
      "metadata": {
        "id": "aCL-0k1c5UCi",
        "outputId": "a8b5346f-a655-4775-b2fa-62b2d8a1b14d"
      },
      "outputs": [
        {
          "name": "stdout",
          "output_type": "stream",
          "text": [
            "True\n"
          ]
        }
      ],
      "source": [
        "print(esta_dog())"
      ]
    },
    {
      "cell_type": "markdown",
      "metadata": {
        "id": "g9tTcftH5UCj"
      },
      "source": [
        "P9) *Cree una función que cuente el número de veces que aparece la palabra 'dog' en el string.*"
      ]
    },
    {
      "cell_type": "code",
      "execution_count": 34,
      "metadata": {
        "id": "n0IFS-Yt5UCj"
      },
      "outputs": [],
      "source": [
        "def contar_ocurrencias(texto : str):\n",
        "    ocurrencias = 0\n",
        "    texto = texto.lower()\n",
        "    for i in range(len(texto) - 2):\n",
        "        if texto[i] == 'd' and texto[i + 1] == 'o' and texto[i + 2] == 'g':\n",
        "            ocurrencias += 1\n",
        "    return ocurrencias\n"
      ]
    },
    {
      "cell_type": "code",
      "execution_count": 39,
      "metadata": {
        "id": "MOuNkbpV5UCj",
        "outputId": "32108036-4bef-43e2-8a9b-a9fa5cdb0f61"
      },
      "outputs": [
        {
          "name": "stdout",
          "output_type": "stream",
          "text": [
            "2\n"
          ]
        }
      ],
      "source": [
        "texto = 'Perro en inglés es dog, and dog in Spanish is perro'\n",
        "print(contar_ocurrencias(texto))"
      ]
    },
    {
      "cell_type": "markdown",
      "metadata": {
        "id": "1RQavUxK5UCj"
      },
      "source": [
        "P10) *Use lambda expressions y filter() para filtrar las palabras de una lista que no empiezan con la letra 's'. Por ej.,*\n",
        "    seq = ['soup','dog','salad','cat','great']\n",
        "\n",
        "*deberían filtrarse a:*\n",
        "    ['soup','salad']"
      ]
    },
    {
      "cell_type": "code",
      "execution_count": 9,
      "metadata": {
        "collapsed": true,
        "id": "7j0oNYCe5UCj"
      },
      "outputs": [
        {
          "name": "stdout",
          "output_type": "stream",
          "text": [
            "['soup', 'salad']\n"
          ]
        }
      ],
      "source": [
        "seq = ['soup', 'dog', 'salad','cat', 'great', '']\n",
        "\n",
        "filtro = list(filter(lambda x: x and x[0] == 's', seq))\n",
        "\n",
        "print(filtro)\n"
      ]
    },
    {
      "cell_type": "markdown",
      "metadata": {
        "id": "ywW5UfkE5UCk"
      },
      "source": [
        "### Problema Final\n",
        "*Usted va conduciendo demasiado rápido y un oficial de policía lo detiene. Escriba una función\n",
        "   para devolver uno de los 3 resultados posibles: \"No Ticket\", \"Small Ticket\" o \"Big Ticket\".\n",
        "   Si su velocidad es de 60 o menos, el resultado es \"No Ticket\". Si la velocidad está entre 61\n",
        "   y 80 inclusive, el resultado es \"Small Ticket\". Si la velocidad es 81 o más, el resultado es\n",
        "   \"Big Ticket\". A menos que sea su cumpleaños (codificado como un valor booleano en los parámetros de la función), en\n",
        "   su cumpleaños, su velocidad puede ser 5 más alta en total\n",
        "   casos.*"
      ]
    },
    {
      "cell_type": "code",
      "execution_count": 11,
      "metadata": {
        "collapsed": true,
        "id": "K27qL9wK5UCk"
      },
      "outputs": [],
      "source": [
        "def obtener_ticket(velocidad : float, cumpleanios : bool):\n",
        "    tickets = ('No Ticket', 'Small Ticket', 'Big Ticket')\n",
        "    velocidad = velocidad - 5 if cumpleanios else velocidad\n",
        "    if velocidad <= 60:\n",
        "        return tickets[0]\n",
        "    elif velocidad <= 80:\n",
        "        return tickets[1]\n",
        "    else:\n",
        "        return tickets[2]"
      ]
    },
    {
      "cell_type": "code",
      "execution_count": 12,
      "metadata": {
        "id": "b5xFNQuh5UCk",
        "outputId": "1a297082-9236-48d0-9fc2-cd58c75de2a8"
      },
      "outputs": [
        {
          "name": "stdout",
          "output_type": "stream",
          "text": [
            "Cumpleaños = si, velocidad = 65: No Ticket\n",
            "Cumpleaños = no, velocidad = 65: Small Ticket\n"
          ]
        }
      ],
      "source": [
        "print(f'Cumpleaños = si, velocidad = 65: {obtener_ticket(65, True)}')\n",
        "print(f'Cumpleaños = no, velocidad = 65: {obtener_ticket(65, False)}')"
      ]
    },
    {
      "cell_type": "markdown",
      "metadata": {
        "id": "zMYjQVra5UCl"
      },
      "source": [
        "# Muy bien hecho!"
      ]
    }
  ],
  "metadata": {
    "colab": {
      "provenance": []
    },
    "kernelspec": {
      "display_name": "tsbd",
      "language": "python",
      "name": "python3"
    },
    "language_info": {
      "codemirror_mode": {
        "name": "ipython",
        "version": 3
      },
      "file_extension": ".py",
      "mimetype": "text/x-python",
      "name": "python",
      "nbconvert_exporter": "python",
      "pygments_lexer": "ipython3",
      "version": "3.12.5"
    }
  },
  "nbformat": 4,
  "nbformat_minor": 0
}
