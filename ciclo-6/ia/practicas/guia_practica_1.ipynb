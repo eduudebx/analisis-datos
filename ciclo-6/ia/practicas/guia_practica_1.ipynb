{
 "cells": [
  {
   "cell_type": "markdown",
   "metadata": {},
   "source": [
    "<br>\n",
    "<hr>\n",
    "<center>\n",
    "    <b>\n",
    "        <img src=\"https://www.tecazuay.edu.ec/wp-content/uploads/2023/07/LOGO-RECTANGULAR_SIN-FONDO.png\" alt=\"Logo ISTA\" height=\"150\">\n",
    "        <p><font size=\"5\">Tecnología Superior en Big Data</font></p>\n",
    "        <p><font size=\"5\">GUÍA PRACTICA N°1</font></p>\n",
    "    </b>\n",
    "    <p><font size=\"3\"></font><b>Estudiante: </b>Eduardo Mendieta.</p>\n",
    "    <p><font size=\"3\"></font><b>Docente: </b>Msc. Ing. Marcelo Monteros Guerrero.</p>\n",
    "    <p><font size=\"3\"></font><b>Materia: </b>Inteligencia Artificial.</p>\n",
    "</center>\n",
    "<hr>\n",
    "\n",
    "<br>\n",
    "<center><p><font size=\"4\"><b>EJERCICIO N°1:</b></font></p></center>\n",
    "<br>\n",
    "\n",
    "<p><font size=\"3\"><b>1. Analizar la problemática:</b></font></p>\n",
    "<p><font size=\"3\"><b>2. Diseñar el algoritmo de solución:</b></font></p>\n",
    "<p><font size=\"3\"><b>3. Implementando la solución:</b></font></p>"
   ]
  },
  {
   "cell_type": "code",
   "execution_count": 49,
   "metadata": {},
   "outputs": [],
   "source": [
    "def leer_archivo(ruta: str):\n",
    "    try:\n",
    "        with open(ruta, 'r', encoding='latin1') as archivo:\n",
    "            return archivo.read()\n",
    "        \n",
    "    except FileNotFoundError:\n",
    "        print(f'\\nError: El archivo {ruta} no se encuentra.\\n' )\n",
    "\n",
    "    except PermissionError:\n",
    "        print(f'\\nError: No tienes permiso para leer el archivo: {ruta}.\\n')\n",
    "    \n",
    "    except UnicodeDecodeError as e:\n",
    "        print(f'\\nError de codificación al leer el archivo.\\n')\n",
    "    return ''\n",
    "\n",
    "\n",
    "get_num_lineas = lambda contenido: contenido.count('\\n') + 1 if contenido else 0\n",
    "\n",
    "\n",
    "def get_num_coincidencias(contenido: str, clave: str):\n",
    "    try:\n",
    "        if not contenido: raise ValueError(\"El contenido no puede estar vacío.\")\n",
    "\n",
    "        contenido = contenido.replace('\\n', ' ')\n",
    "        palabras = contenido.lower().split()\n",
    "        \n",
    "        return len([i for i in palabras if i == clave])\n",
    "    \n",
    "    except ValueError as e:\n",
    "        print(f'\\nError: {e}\\n')\n",
    "\n",
    "    except TypeError as e:\n",
    "        print(f'\\nError, tipo de dato no permitido.\\n')\n",
    "    \n",
    "    return 0\n",
    "\n",
    "\n",
    "\n",
    "def reemplazar_tildes(contenido: str):\n",
    "    try:\n",
    "        if not contenido: raise ValueError(\"El contenido no puede estar vacío.\")\n",
    "\n",
    "        vocales_con_tildes = ('á', 'é', 'í', 'ó', 'ú')\n",
    "        vocales_sin_tildes = ('a', 'e', 'i', 'o', 'u')\n",
    "        contenido = contenido.lower()\n",
    "        \n",
    "        for i in range(len(vocales_con_tildes)):\n",
    "            contenido = contenido.replace(vocales_con_tildes[i], vocales_sin_tildes[i])\n",
    "\n",
    "        return contenido\n",
    "\n",
    "    except ValueError as e:\n",
    "        print(f'\\nError: {e}\\n')\n",
    "\n",
    "    except TypeError as e:\n",
    "        print(f'\\nError, tipo de dato no permitido.\\n')\n",
    "\n",
    "    return ''\n",
    "\n",
    "\n",
    "def escribir_archivo(ruta: str, contenido: list):\n",
    "    try:\n",
    "        with open(ruta, 'w') as archivo:\n",
    "            for i in contenido:\n",
    "                archivo.write(i + '\\n')\n",
    "        \n",
    "        print('\\nArchivo escrito con éxito.\\n')\n",
    "\n",
    "    except OSError as e:\n",
    "        print('\\nError con la ruta o el nombre del archivo.\\n')\n",
    "\n",
    "    except TypeError as e:\n",
    "        print(f'\\nError, tipo de dato no permitido.\\n')\n"
   ]
  },
  {
   "cell_type": "markdown",
   "metadata": {},
   "source": [
    "<p><font size=\"3\"><b>4. Probando la funcionalidad:</b></font></p>"
   ]
  },
  {
   "cell_type": "code",
   "execution_count": 41,
   "metadata": {},
   "outputs": [
    {
     "name": "stdout",
     "output_type": "stream",
     "text": [
      "\n",
      "En un lugar de la Mancha, de cuyo nombre no quiero acordarme, no ha mucho\n",
      "tiempo que vivía un hidalgo de los de lanza en astillero, adarga antigua,\n",
      "rocín flaco y galgo corredor. Una olla de algo más vaca que carnero,\n",
      "salpicón las más noches, duelos y quebrantos los sábados, lantejas los\n",
      "viernes, algún palomino de añadidura los domingos, co...\n",
      "\n"
     ]
    }
   ],
   "source": [
    "# Leendo el fichero y obteniendo su contenido:\n",
    "contenido = leer_archivo('data/FicheroALeer.txt')\n",
    "\n",
    "print(f'\\n{contenido[0: len(contenido)//20] + '...'}\\n')"
   ]
  },
  {
   "cell_type": "code",
   "execution_count": 42,
   "metadata": {},
   "outputs": [
    {
     "name": "stdout",
     "output_type": "stream",
     "text": [
      "\n",
      "Número de lineas del fichero: 101\n"
     ]
    }
   ],
   "source": [
    "# Contando el numero de linas del fichero:\n",
    "num_lineas = get_num_lineas(contenido)\n",
    "\n",
    "print(f'\\nNúmero de lineas del fichero: {num_lineas}')"
   ]
  },
  {
   "cell_type": "code",
   "execution_count": 50,
   "metadata": {},
   "outputs": [
    {
     "name": "stdout",
     "output_type": "stream",
     "text": [
      "\n",
      "Número de coincidencias del artículo [el] en el contenido del fichero: 28\n",
      "\n"
     ]
    }
   ],
   "source": [
    "# Contando el número de veces que aparece el artículo [el] en el contenido del fichero:\n",
    "coincidencias_el = get_num_coincidencias(contenido, 'el')\n",
    "\n",
    "print(f'\\nNúmero de coincidencias del artículo [el] en el contenido del fichero: {coincidencias_el}\\n')\n"
   ]
  },
  {
   "cell_type": "code",
   "execution_count": 51,
   "metadata": {},
   "outputs": [
    {
     "name": "stdout",
     "output_type": "stream",
     "text": [
      "\n",
      "en un lugar de la mancha, de cuyo nombre no quiero acordarme, no ha mucho\n",
      "tiempo que vivia un hidalgo de los de lanza en astillero, adarga antigua,\n",
      "rocin flaco y galgo corredor. una olla de algo mas vaca que carnero,\n",
      "salpicon las mas noches, duelos y quebrantos los sabados, lantejas los\n",
      "viernes, algun palomino de añadidura los domingos, co...\n",
      "\n"
     ]
    }
   ],
   "source": [
    "# Eliminando las tildes del fichero y conviertiendo todas las letras a minúscula:\n",
    "contenido = reemplazar_tildes(contenido)\n",
    "\n",
    "print(f'\\n{contenido[0: len(contenido)//20] + '...'}\\n')"
   ]
  },
  {
   "cell_type": "code",
   "execution_count": null,
   "metadata": {},
   "outputs": [
    {
     "ename": "TypeError",
     "evalue": "escribir_archivo() missing 1 required positional argument: 'contenido'",
     "output_type": "error",
     "traceback": [
      "\u001b[0;31m---------------------------------------------------------------------------\u001b[0m",
      "\u001b[0;31mTypeError\u001b[0m                                 Traceback (most recent call last)",
      "Cell \u001b[0;32mIn[53], line 6\u001b[0m\n\u001b[1;32m      1\u001b[0m \u001b[38;5;66;03m# Creando el fichero de texto:\u001b[39;00m\n\u001b[1;32m      2\u001b[0m lineas \u001b[38;5;241m=\u001b[39m [\u001b[38;5;124mf\u001b[39m\u001b[38;5;124m'\u001b[39m\u001b[38;5;124mNúmero de lineas del fichero: \u001b[39m\u001b[38;5;132;01m{\u001b[39;00mnum_lineas\u001b[38;5;132;01m}\u001b[39;00m\u001b[38;5;124m'\u001b[39m, \n\u001b[1;32m      3\u001b[0m           \u001b[38;5;124mf\u001b[39m\u001b[38;5;124m'\u001b[39m\u001b[38;5;124mNúmero de coincidencias del artículo [el] en el contenido del fichero: \u001b[39m\u001b[38;5;132;01m{\u001b[39;00mcoincidencias_el\u001b[38;5;132;01m}\u001b[39;00m\u001b[38;5;124m'\u001b[39m,\n\u001b[1;32m      4\u001b[0m           contenido]\n\u001b[0;32m----> 6\u001b[0m \u001b[43mescribir_archivo\u001b[49m\u001b[43m(\u001b[49m\u001b[38;5;124;43m'\u001b[39;49m\u001b[38;5;124;43mdata/resultado.txt\u001b[39;49m\u001b[38;5;124;43m'\u001b[39;49m\u001b[43m)\u001b[49m\n",
      "\u001b[0;31mTypeError\u001b[0m: escribir_archivo() missing 1 required positional argument: 'contenido'"
     ]
    }
   ],
   "source": [
    "# Creando el fichero de texto:\n",
    "lineas = [f'Número de lineas del fichero: {num_lineas}', \n",
    "          f'Número de coincidencias del artículo [el] en el contenido del fichero: {coincidencias_el}',\n",
    "          contenido]\n",
    "\n",
    "escribir_archivo('data/resultado.txt', lineas)"
   ]
  }
 ],
 "metadata": {
  "kernelspec": {
   "display_name": "ista",
   "language": "python",
   "name": "python3"
  },
  "language_info": {
   "codemirror_mode": {
    "name": "ipython",
    "version": 3
   },
   "file_extension": ".py",
   "mimetype": "text/x-python",
   "name": "python",
   "nbconvert_exporter": "python",
   "pygments_lexer": "ipython3",
   "version": "3.12.7"
  }
 },
 "nbformat": 4,
 "nbformat_minor": 2
}
